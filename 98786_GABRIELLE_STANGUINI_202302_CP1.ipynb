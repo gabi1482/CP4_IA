{
  "nbformat": 4,
  "nbformat_minor": 0,
  "metadata": {
    "colab": {
      "provenance": []
    },
    "kernelspec": {
      "name": "python3",
      "display_name": "Python 3"
    },
    "language_info": {
      "name": "python"
    }
  },
  "cells": [
    {
      "cell_type": "code",
      "execution_count": 86,
      "metadata": {
        "id": "WzYVk_CMvU8k"
      },
      "outputs": [],
      "source": [
        "path_database = '/content/drive/MyDrive/CP4/disney_movies.csv'"
      ]
    },
    {
      "cell_type": "markdown",
      "source": [
        "\n",
        "\n",
        "# > Descrição do conjunto de dados\n",
        "\n",
        "*   ORIGEM: https://www.kaggle.com/datasets/prateekmaj21/disney-movies\n",
        "\n",
        "*   NOME: Disney Movies\n",
        "\n",
        "*   TAMANHO: 15KB\n",
        "\n",
        "*   QUANTIDADE DE REGISTROS: 3.401 registros\n",
        "\n",
        "*   LINHAS X COLUNAS: 579 LINHAS X 6 COLUNAS\n",
        "\n",
        "*   DADOS FALTANTES: 73 dados faltantes\n",
        "\n",
        "  movie_title  -----------------      0 dados faltantes\n",
        "\n",
        "  release_date -----------------      0 dados faltantes\n",
        "\n",
        "  genre       -----------------      17 dados faltantes\n",
        "\n",
        "  mpaa_rating    -----------------   56 dados faltantes\n",
        "\n",
        "  total_gross   -----------------    0 dados faltantes\n",
        "\n",
        "  inflation_adjusted_gross --------  0 dados faltantes"
      ],
      "metadata": {
        "id": "HZtPT60d7EGw"
      }
    },
    {
      "cell_type": "code",
      "source": [
        "import numpy as np\n",
        "import pandas as pd\n",
        "import matplotlib.pyplot as plt\n",
        "import seaborn as sns\n",
        "import math"
      ],
      "metadata": {
        "id": "-iKS-RQCvwK6"
      },
      "execution_count": 87,
      "outputs": []
    },
    {
      "cell_type": "code",
      "source": [
        "dados = pd.read_csv('/content/drive/MyDrive/CP4/disney_movies.csv', sep = ',')"
      ],
      "metadata": {
        "id": "m4d68faRv_2p"
      },
      "execution_count": 88,
      "outputs": []
    },
    {
      "cell_type": "code",
      "source": [
        "len(dados.index)"
      ],
      "metadata": {
        "colab": {
          "base_uri": "https://localhost:8080/"
        },
        "id": "1A3nV8fAXpDQ",
        "outputId": "6b527ab7-51fa-498d-b980-ce9d9b956b62"
      },
      "execution_count": 89,
      "outputs": [
        {
          "output_type": "execute_result",
          "data": {
            "text/plain": [
              "579"
            ]
          },
          "metadata": {},
          "execution_count": 89
        }
      ]
    },
    {
      "cell_type": "code",
      "source": [
        "dados.info()"
      ],
      "metadata": {
        "colab": {
          "base_uri": "https://localhost:8080/"
        },
        "id": "Ie44HjNLXwJ9",
        "outputId": "da741d62-63e6-4065-d368-d28096fa4876"
      },
      "execution_count": 90,
      "outputs": [
        {
          "output_type": "stream",
          "name": "stdout",
          "text": [
            "<class 'pandas.core.frame.DataFrame'>\n",
            "RangeIndex: 579 entries, 0 to 578\n",
            "Data columns (total 6 columns):\n",
            " #   Column                    Non-Null Count  Dtype \n",
            "---  ------                    --------------  ----- \n",
            " 0   movie_title               579 non-null    object\n",
            " 1   release_date              579 non-null    object\n",
            " 2   genre                     562 non-null    object\n",
            " 3   mpaa_rating               523 non-null    object\n",
            " 4   total_gross               579 non-null    int64 \n",
            " 5   inflation_adjusted_gross  579 non-null    int64 \n",
            "dtypes: int64(2), object(4)\n",
            "memory usage: 27.3+ KB\n"
          ]
        }
      ]
    },
    {
      "cell_type": "code",
      "source": [
        "import statistics"
      ],
      "metadata": {
        "id": "xgnTsTuNjOpY"
      },
      "execution_count": 91,
      "outputs": []
    },
    {
      "cell_type": "code",
      "source": [
        "media_bruta = statistics.mean(dados.total_gross)\n",
        "print(f'Média da bilheteria bruta é: {media_bruta:.2f}')"
      ],
      "metadata": {
        "colab": {
          "base_uri": "https://localhost:8080/"
        },
        "id": "Xe1ASwAiD7tQ",
        "outputId": "02f8f391-48b7-4e5a-a07b-0a819d0ff6ed"
      },
      "execution_count": 94,
      "outputs": [
        {
          "output_type": "stream",
          "name": "stdout",
          "text": [
            "Média da bilheteria bruta é: 64701788.52\n"
          ]
        }
      ]
    },
    {
      "cell_type": "code",
      "source": [
        "media_inflacao = statistics.mean(dados.inflation_adjusted_gross)\n",
        "print(f'Média da bilheteria bruta ajustada pela inflação é: {media_inflacao:.2f}')"
      ],
      "metadata": {
        "colab": {
          "base_uri": "https://localhost:8080/"
        },
        "id": "YKiK9irsEg4l",
        "outputId": "1fa8599f-7dbf-4bc2-d3c2-fe43474fc2d4"
      },
      "execution_count": 95,
      "outputs": [
        {
          "output_type": "stream",
          "name": "stdout",
          "text": [
            "Média da bilheteria bruta ajustada pela inflação é: 118762523.31\n"
          ]
        }
      ]
    },
    {
      "cell_type": "code",
      "source": [
        "mediana_bruta = statistics.median(dados.total_gross)\n",
        "print(f'Mediana da bilheteria bruta é: {mediana_bruta:.2f}')"
      ],
      "metadata": {
        "colab": {
          "base_uri": "https://localhost:8080/"
        },
        "id": "-BIlIWHmFFZG",
        "outputId": "84f54e15-4748-4ac5-9c4b-bc808779cd00"
      },
      "execution_count": 96,
      "outputs": [
        {
          "output_type": "stream",
          "name": "stdout",
          "text": [
            "Mediana da bilheteria bruta é: 30702446.00\n"
          ]
        }
      ]
    },
    {
      "cell_type": "code",
      "source": [
        "mediana_inflacao = statistics.median(dados.inflation_adjusted_gross)\n",
        "print(f'Mediana da bilheteria bruta ajustada pela inflação  é: {mediana_inflacao:.2f}')"
      ],
      "metadata": {
        "colab": {
          "base_uri": "https://localhost:8080/"
        },
        "id": "8mtA9fsXFqen",
        "outputId": "9c705f2e-38a4-4c17-bdcf-d60bd9f281e2"
      },
      "execution_count": 97,
      "outputs": [
        {
          "output_type": "stream",
          "name": "stdout",
          "text": [
            "Mediana da bilheteria bruta ajustada pela inflação  é: 55159783.00\n"
          ]
        }
      ]
    },
    {
      "cell_type": "code",
      "source": [
        "variancia_bruta = statistics.variance(dados.total_gross)\n",
        "print(f'Variancia da bilheteria bruta é: {variancia_bruta:.2f}')"
      ],
      "metadata": {
        "colab": {
          "base_uri": "https://localhost:8080/"
        },
        "id": "iWRCoonQF-ZA",
        "outputId": "786b07ca-3ccd-4305-b390-b1a027c82f2a"
      },
      "execution_count": 98,
      "outputs": [
        {
          "output_type": "stream",
          "name": "stdout",
          "text": [
            "Variancia da bilheteria bruta é: 8651419307000451.00\n"
          ]
        }
      ]
    },
    {
      "cell_type": "code",
      "source": [
        "variancia_inflacao = statistics.variance(dados.inflation_adjusted_gross)\n",
        "print(f'Variancia da bilheteria bruta ajustada pela inflação  é: {variancia_inflacao:.2f}')"
      ],
      "metadata": {
        "colab": {
          "base_uri": "https://localhost:8080/"
        },
        "id": "R8I1Q8c7F1jg",
        "outputId": "645c447b-6286-4faf-d08f-69acaef50e3e"
      },
      "execution_count": 83,
      "outputs": [
        {
          "output_type": "stream",
          "name": "stdout",
          "text": [
            "Variancia da bilheteria bruta ajustada pela inflação  é: 81844787456376112.00\n"
          ]
        }
      ]
    },
    {
      "cell_type": "code",
      "source": [
        "desvio_bruta = statistics.stdev(dados.total_gross)\n",
        "print(f'Desvio padrão da bilheteria bruta é: {desvio_bruta:.2f}')"
      ],
      "metadata": {
        "colab": {
          "base_uri": "https://localhost:8080/"
        },
        "id": "p6InA0QJGUst",
        "outputId": "d9087cac-88f5-4c0c-ba07-a05a1242ecf7"
      },
      "execution_count": 99,
      "outputs": [
        {
          "output_type": "stream",
          "name": "stdout",
          "text": [
            "Desvio padrão da bilheteria bruta é: 93013006.12\n"
          ]
        }
      ]
    },
    {
      "cell_type": "code",
      "source": [
        "desvio_inflacao = statistics.stdev(dados.inflation_adjusted_gross)\n",
        "print(f'Desvio Padrão da bilheteria bruta ajustada pela inflação  é: {desvio_inflacao:.2f}')"
      ],
      "metadata": {
        "colab": {
          "base_uri": "https://localhost:8080/"
        },
        "id": "c4N42ZU1GiSI",
        "outputId": "9bc012bb-a625-4d89-883b-9e69bd6d85cc"
      },
      "execution_count": 100,
      "outputs": [
        {
          "output_type": "stream",
          "name": "stdout",
          "text": [
            "Desvio Padrão da bilheteria bruta ajustada pela inflação  é: 286085280.04\n"
          ]
        }
      ]
    },
    {
      "cell_type": "code",
      "source": [
        "# Histograma da bilheteria bruta dos filmes da Disney até 2016\n",
        "\n",
        "dados.hist(column = \"total_gross\", bins=150)\n",
        "plt.show()"
      ],
      "metadata": {
        "colab": {
          "base_uri": "https://localhost:8080/",
          "height": 470
        },
        "id": "xdMQ2X6g4zie",
        "outputId": "17a0a751-f1fe-4250-c64d-ba6029f568aa"
      },
      "execution_count": 51,
      "outputs": [
        {
          "output_type": "display_data",
          "data": {
            "text/plain": [
              "<Figure size 640x480 with 1 Axes>"
            ],
            "image/png": "[encoded data removed]"
          },
          "metadata": {}
        }
      ]
    },
    {
      "cell_type": "code",
      "source": [
        "# Histograma da bilheteria bruta ajustada pela inflação dos filmes da Disney até 2016\n",
        "\n",
        "dados.hist(column = \"inflation_adjusted_gross\", bins=150)\n",
        "plt.show()"
      ],
      "metadata": {
        "colab": {
          "base_uri": "https://localhost:8080/",
          "height": 470
        },
        "id": "Cks7v1Nh6T-a",
        "outputId": "0e33dc32-00de-402b-9537-c0ef16600b31"
      },
      "execution_count": 52,
      "outputs": [
        {
          "output_type": "display_data",
          "data": {
            "text/plain": [
              "<Figure size 640x480 with 1 Axes>"
            ],
            "image/png": "[encoded data removed]"
          },
          "metadata": {}
        }
      ]
    },
    {
      "cell_type": "code",
      "source": [
        "# Scatter Plot da bilheteria bruta pela bilheteria bruta ajustada pela inflação dos filmes da Disney até 2016\n",
        "\n",
        "bilheteria_bruta = dados.total_gross\n",
        "bilheteria_inflacao = dados.inflation_adjusted_gross\n",
        "\n",
        "plt.scatter(bilheteria_bruta,bilheteria_inflacao)\n",
        "plt.show"
      ],
      "metadata": {
        "colab": {
          "base_uri": "https://localhost:8080/",
          "height": 480
        },
        "id": "BqMkXcfz500M",
        "outputId": "59a3baa3-f481-4d12-e30f-659ecfccf500"
      },
      "execution_count": 53,
      "outputs": [
        {
          "output_type": "execute_result",
          "data": {
            "text/plain": [
              "<function matplotlib.pyplot.show(close=None, block=None)>"
            ]
          },
          "metadata": {},
          "execution_count": 53
        },
        {
          "output_type": "display_data",
          "data": {
            "text/plain": [
              "<Figure size 640x480 with 1 Axes>"
            ],
            "image/png": "[encoded data removed]"
          },
          "metadata": {}
        }
      ]
    }
  ]
}